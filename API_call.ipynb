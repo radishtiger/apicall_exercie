{
 "cells": [
  {
   "cell_type": "markdown",
   "metadata": {},
   "source": [
    "## Text"
   ]
  },
  {
   "cell_type": "code",
   "execution_count": 1,
   "metadata": {},
   "outputs": [
    {
     "name": "stdout",
     "output_type": "stream",
     "text": [
      "Hi there! How can I assist you today?\n"
     ]
    }
   ],
   "source": [
    "import os, json\n",
    "from utils import api_call_3p5\n",
    "\n",
    "user_text = \"hello!\"\n",
    "\n",
    "message = [\n",
    "    {\"role\":\"user\", \"content\":user_text},\n",
    "]\n",
    "msg = api_call_3p5(message)\n",
    "print(msg.content)\n"
   ]
  },
  {
   "cell_type": "markdown",
   "metadata": {},
   "source": [
    "## Vision + Text"
   ]
  },
  {
   "cell_type": "code",
   "execution_count": 2,
   "metadata": {},
   "outputs": [
    {
     "name": "stderr",
     "output_type": "stream",
     "text": [
      "/opt/anaconda3/envs/openai_api/lib/python3.12/site-packages/langchain_core/_api/deprecation.py:117: LangChainDeprecationWarning: The class `langchain_community.chat_models.openai.ChatOpenAI` was deprecated in langchain-community 0.0.10 and will be removed in 0.2.0. An updated version of the class exists in the langchain-openai package and should be used instead. To use it run `pip install -U langchain-openai` and import as `from langchain_openai import ChatOpenAI`.\n",
      "  warn_deprecated(\n"
     ]
    }
   ],
   "source": [
    "from utils import api_call_vision_text\n",
    "import json, os\n",
    "\n",
    "\n",
    "text = \"이 고양이의 종이 뭐야?\"\n",
    "image_path = 'cat.png'\n",
    "\n",
    "msg = api_call_vision_text(human_message=text, image=image_path)\n",
    "print(msg)"
   ]
  },
  {
   "cell_type": "code",
   "execution_count": null,
   "metadata": {},
   "outputs": [
    {
     "data": {
      "text/plain": [
       "'이 고양이는 라이트 크림색 털과 파란 눈을 가진 매우 귀여운 새끼 고양이입니다. 사진만으로는 정확한 종을 결정하기 어렵지만, 이 새끼 고양이의 특징은 많은 종에서 찾아볼 수 있는 일반적인 특성입니다. 예를 들어, 페르시안, 시암, 렉돌 그리고 다른 여러 혼합종에서 이러한 외모를 가진 고양이들을 볼 수 있습니다. 고양이의 종을 확실히 알기 위해서는 추가적인 정보나 유전적 테스트가 필요할 수 있습니다.'"
      ]
     },
     "execution_count": 9,
     "metadata": {},
     "output_type": "execute_result"
    }
   ],
   "source": [
    "msg"
   ]
  }
 ],
 "metadata": {
  "kernelspec": {
   "display_name": "Python 3.12.1 ('openai_api')",
   "language": "python",
   "name": "python3"
  },
  "language_info": {
   "codemirror_mode": {
    "name": "ipython",
    "version": 3
   },
   "file_extension": ".py",
   "mimetype": "text/x-python",
   "name": "python",
   "nbconvert_exporter": "python",
   "pygments_lexer": "ipython3",
   "version": "3.12.1"
  },
  "orig_nbformat": 4,
  "vscode": {
   "interpreter": {
    "hash": "f277249f7b7e93f0bf24eacf79ea4f49b3618d333d200a00ca2d4d8392ccc10d"
   }
  }
 },
 "nbformat": 4,
 "nbformat_minor": 2
}
