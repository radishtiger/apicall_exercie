{
 "cells": [
  {
   "cell_type": "markdown",
   "metadata": {},
   "source": [
    "## Text"
   ]
  },
  {
   "cell_type": "code",
   "execution_count": 2,
   "metadata": {},
   "outputs": [
    {
     "ename": "ImportError",
     "evalue": "cannot import name 'api_call_3p5' from 'utils' (/Users/moohosong/Desktop/Repos/Notebooks/openai_api/utils.py)",
     "output_type": "error",
     "traceback": [
      "\u001b[0;31m---------------------------------------------------------------------------\u001b[0m",
      "\u001b[0;31mImportError\u001b[0m                               Traceback (most recent call last)",
      "Cell \u001b[0;32mIn[2], line 2\u001b[0m\n\u001b[1;32m      1\u001b[0m \u001b[38;5;28;01mimport\u001b[39;00m \u001b[38;5;21;01mos\u001b[39;00m\u001b[38;5;241m,\u001b[39m \u001b[38;5;21;01mjson\u001b[39;00m\n\u001b[0;32m----> 2\u001b[0m \u001b[38;5;28;01mfrom\u001b[39;00m \u001b[38;5;21;01mutils\u001b[39;00m \u001b[38;5;28;01mimport\u001b[39;00m api_call_3p5\n\u001b[1;32m      3\u001b[0m message \u001b[38;5;241m=\u001b[39m [\n\u001b[1;32m      4\u001b[0m     {}\n\u001b[1;32m      5\u001b[0m ]\n\u001b[1;32m      6\u001b[0m msg \u001b[38;5;241m=\u001b[39m api_call_3p5()\n",
      "\u001b[0;31mImportError\u001b[0m: cannot import name 'api_call_3p5' from 'utils' (/Users/moohosong/Desktop/Repos/Notebooks/openai_api/utils.py)"
     ]
    }
   ],
   "source": [
    "import os, json\n",
    "from utils import api_call_3p5\n",
    "\n",
    "user_text = \"hello!\"\n",
    "\n",
    "message = [\n",
    "    {\"role\":\"user\", \"content\":user_text}\n",
    "]\n",
    "msg = api_call_3p5(message)\n"
   ]
  },
  {
   "cell_type": "markdown",
   "metadata": {},
   "source": [
    "## Vision + Text"
   ]
  },
  {
   "cell_type": "code",
   "execution_count": null,
   "metadata": {},
   "outputs": [],
   "source": [
    "from utils import api_call_vision_text\n",
    "import json, os\n",
    "\n",
    "\n",
    "text = \"이 고양이의 종이 뭐야?\"\n",
    "image_path = 'cat.png'\n",
    "\n",
    "msg = api_call(human_message=text, image=image_path)"
   ]
  },
  {
   "cell_type": "code",
   "execution_count": null,
   "metadata": {},
   "outputs": [
    {
     "data": {
      "text/plain": [
       "'이 사진에 있는 고양이는 특정 품종을 확실히 식별하기 어렵지만, 밝은 코트와 푸른 눈을 가진 것으로 보아 시암종이나 라그돌과 같은 품종일 가능성이 있습니다. 하지만 어린 고양이의 경우 외모가 성숙한 고양이의 것과 다를 수 있어서 정확한 품종을 말하기는 어렵습니다.'"
      ]
     },
     "execution_count": 5,
     "metadata": {},
     "output_type": "execute_result"
    }
   ],
   "source": [
    "msg"
   ]
  }
 ],
 "metadata": {
  "kernelspec": {
   "display_name": "Python 3.12.1 ('openai_api')",
   "language": "python",
   "name": "python3"
  },
  "language_info": {
   "codemirror_mode": {
    "name": "ipython",
    "version": 3
   },
   "file_extension": ".py",
   "mimetype": "text/x-python",
   "name": "python",
   "nbconvert_exporter": "python",
   "pygments_lexer": "ipython3",
   "version": "3.12.1"
  },
  "orig_nbformat": 4,
  "vscode": {
   "interpreter": {
    "hash": "f277249f7b7e93f0bf24eacf79ea4f49b3618d333d200a00ca2d4d8392ccc10d"
   }
  }
 },
 "nbformat": 4,
 "nbformat_minor": 2
}
